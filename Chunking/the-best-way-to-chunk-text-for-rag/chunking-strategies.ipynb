{
 "cells": [
  {
   "metadata": {},
   "cell_type": "markdown",
   "source": "##  Chunking - Optimizing Vector Database Data Preparation",
   "id": "37e2b6fcaa9eceee"
  },
  {
   "metadata": {},
   "cell_type": "markdown",
   "source": [
    "- Character/Token Based Chunking\n",
    "- Recursive Character/Token Based Chunking\n",
    "- Semantic Chunking\n",
    "- Cluster Semantic Chunking\n",
    "- LLM Semantic Chunking"
   ],
   "id": "fef92004fee37f9"
  },
  {
   "metadata": {},
   "cell_type": "markdown",
   "source": [
    "\n",
    "### The Chunking Evaluation Repo"
   ],
   "id": "f08e321cbd8bd095"
  },
  {
   "metadata": {
    "collapsed": true,
    "ExecuteTime": {
     "end_time": "2025-05-21T21:07:59.693143Z",
     "start_time": "2025-05-21T21:06:42.148671Z"
    }
   },
   "cell_type": "code",
   "source": [
    "%%capture\n",
    "!pip install git+https://github.com/brandonstarxel/chunking_evaluation.git"
   ],
   "id": "initial_id",
   "outputs": [],
   "execution_count": 1
  },
  {
   "metadata": {
    "ExecuteTime": {
     "end_time": "2025-05-21T21:21:50.286027Z",
     "start_time": "2025-05-21T21:21:48.759959Z"
    }
   },
   "cell_type": "code",
   "source": [
    "# Main Chunking Functions\n",
    "from chunking_evaluation.chunking import (\n",
    "    ClusterSemanticChunker,\n",
    "    LLMSemanticChunker,\n",
    "    FixedTokenChunker,\n",
    "    RecursiveTokenChunker,\n",
    "    KamradtModifiedChunker\n",
    ")\n",
    "# Additional Dependencies\n",
    "import tiktoken\n",
    "from chromadb.utils import embedding_functions\n",
    "from chunking_evaluation.utils import openai_token_count\n",
    "import os"
   ],
   "id": "80cee3e71e61a37",
   "outputs": [],
   "execution_count": 2
  },
  {
   "metadata": {},
   "cell_type": "markdown",
   "source": "Pride and Prejudice by Jane Austen, available for free from Project Gutenberg, will be used. It consists of 476 pages of text or 175,651 tokens.",
   "id": "f9a4520e787371fc"
  },
  {
   "metadata": {
    "ExecuteTime": {
     "end_time": "2025-05-21T21:27:20.822186Z",
     "start_time": "2025-05-21T21:27:20.815192Z"
    }
   },
   "cell_type": "code",
   "source": [
    "\n",
    "with open(\"./pride_and_prejudice.txt\", 'r', encoding='utf-8') as file:\n",
    "        document = file.read()\n",
    "\n",
    "print(\"First 1000 Characters: \", document[:1000])"
   ],
   "id": "e4eff6c657670144",
   "outputs": [
    {
     "name": "stdout",
     "output_type": "stream",
     "text": [
      "First 1000 Characters:  ﻿The Project Gutenberg eBook of Pride and Prejudice\n",
      "    \n",
      "This ebook is for the use of anyone anywhere in the United States and\n",
      "most other parts of the world at no cost and with almost no restrictions\n",
      "whatsoever. You may copy it, give it away or re-use it under the terms\n",
      "of the Project Gutenberg License included with this ebook or online\n",
      "at www.gutenberg.org. If you are not located in the United States,\n",
      "you will have to check the laws of the country where you are located\n",
      "before using this eBook.\n",
      "\n",
      "Title: Pride and Prejudice\n",
      "\n",
      "Author: Jane Austen\n",
      "\n",
      "Release date: June 1, 1998 [eBook #1342]\n",
      "                Most recently updated: June 17, 2024\n",
      "\n",
      "Language: English\n",
      "\n",
      "Credits: Chuck Greif and the Online Distributed Proofreading Team at http://www.pgdp.net (This file was produced from images available at The Internet Archive)\n",
      "\n",
      "\n",
      "*** START OF THE PROJECT GUTENBERG EBOOK PRIDE AND PREJUDICE ***\n",
      "\n",
      "\n",
      "\n",
      "\n",
      "                            [Illustration:\n",
      "\n",
      "                             GEORGE ALLEN\n",
      "                   \n"
     ]
    }
   ],
   "execution_count": 4
  },
  {
   "metadata": {},
   "cell_type": "markdown",
   "source": "#### Helper Function for Analyzing Chunking!",
   "id": "7a6e67188231a75f"
  },
  {
   "metadata": {},
   "cell_type": "markdown",
   "source": [
    "- **Display Chunk Count**: ***The function prints the length of the provided chunks list (i.e., the number of chunks).***\n",
    "- **Examine Specific Chunks**: ***It prints the 200th and 201st chunks (indices 199 and 200).***\n",
    "\n",
    "- **Overlap Analysis**: ***It identifies overlapping text between the 200th and 201st chunks, checked in two modes:***\n",
    "    + **Character-Based** (use_tokens=False): ***Searches for a common substring between the two chunks.***\n",
    "    + **Token-Based** (use_tokens=True): ***Uses the tiktoken library to tokenize the text and checks for token overlap.***"
   ],
   "id": "9acade2a27163aaf"
  },
  {
   "metadata": {
    "ExecuteTime": {
     "end_time": "2025-05-21T21:36:43.618633Z",
     "start_time": "2025-05-21T21:36:43.602395Z"
    }
   },
   "cell_type": "code",
   "source": [
    "def analyze_chunks(chunks, use_tokens=False):\n",
    "    # Print the chunks of interest\n",
    "    print(\"\\nNumber of Chunks:\", len(chunks))\n",
    "    print(\"\\n\", \"=\"*50, \"200th Chunk\", \"=\"*50,\"\\n\", chunks[199])\n",
    "    print(\"\\n\", \"=\"*50, \"201st Chunk\", \"=\"*50,\"\\n\", chunks[200])\n",
    "\n",
    "    chunk1, chunk2 = chunks[199], chunks[200]\n",
    "\n",
    "    if use_tokens:\n",
    "        encoding = tiktoken.get_encoding(\"cl100k_base\")\n",
    "        tokens1 = encoding.encode(chunk1)\n",
    "        tokens2 = encoding.encode(chunk2)\n",
    "\n",
    "        # Find overlapping tokens\n",
    "        for i in range(len(tokens1), 0, -1):\n",
    "            if tokens1[-i:] == tokens2[:i]:\n",
    "                overlap = encoding.decode(tokens1[-i:])\n",
    "                print(\"\\n\", \"=\"*50, f\"\\nOverlapping text ({i} tokens):\", overlap)\n",
    "                return\n",
    "        print(\"\\nNo token overlap found\")\n",
    "    else:\n",
    "        # Find overlapping characters\n",
    "        for i in range(min(len(chunk1), len(chunk2)), 0, -1):\n",
    "            if chunk1[-i:] == chunk2[:i]:\n",
    "                print(\"\\n\", \"=\"*50, f\"\\nOverlapping text ({i} chars):\", chunk1[-i:])\n",
    "                return\n",
    "        print(\"\\nNo character overlap found\")"
   ],
   "id": "bbcc76f905996f8e",
   "outputs": [],
   "execution_count": 5
  },
  {
   "metadata": {},
   "cell_type": "markdown",
   "source": "### <font color='orange'>**Character Text Splitting**</font>",
   "id": "87aedf2a6654eac8"
  },
  {
   "metadata": {},
   "cell_type": "markdown",
   "source": "***The simplest form of chunking would be simply counting some number of characters and splitting at that count.***",
   "id": "e5a918e49aec94af"
  },
  {
   "metadata": {
    "ExecuteTime": {
     "end_time": "2025-05-21T21:42:11.182924Z",
     "start_time": "2025-05-21T21:42:11.175081Z"
    }
   },
   "cell_type": "code",
   "source": [
    "def chunk_text(document, chunk_size, overlap):\n",
    "    chunks = []\n",
    "    stride = chunk_size - overlap\n",
    "    current_idx = 0\n",
    "\n",
    "    while current_idx < len(document):\n",
    "        # Take chunk_size characters starting from current_idx\n",
    "        chunk = document[current_idx:current_idx + chunk_size]\n",
    "        if not chunk:  # Break if we're out of text\n",
    "            break\n",
    "        chunks.append(chunk)\n",
    "        current_idx += stride  # Move forward by stride\n",
    "\n",
    "    return chunks"
   ],
   "id": "4a6cbdaa59901ad",
   "outputs": [],
   "execution_count": 6
  },
  {
   "metadata": {},
   "cell_type": "markdown",
   "source": "Chunk size of `400` Characters, `no overlap`",
   "id": "1adcbc81416cd4f6"
  },
  {
   "metadata": {
    "ExecuteTime": {
     "end_time": "2025-05-21T21:43:13.800596Z",
     "start_time": "2025-05-21T21:43:13.795275Z"
    }
   },
   "cell_type": "code",
   "source": [
    "character_chunks = chunk_text(document, chunk_size=400, overlap=0)\n",
    "\n",
    "analyze_chunks(character_chunks)"
   ],
   "id": "c341c686cb511775",
   "outputs": [
    {
     "name": "stdout",
     "output_type": "stream",
     "text": [
      "\n",
      "Number of Chunks: 1871\n",
      "\n",
      " ================================================== 200th Chunk ================================================== \n",
      " ty to their aunt, and\n",
      "to a milliner’s shop just over the way. The two youngest of the family,\n",
      "Catherine and Lydia, were particularly frequent in these attentions:\n",
      "their minds were more vacant than their sisters’, and when nothing\n",
      "better offered, a walk to Meryton was necessary to amuse their morning\n",
      "hours and furnish conversation for the evening; and, however bare of\n",
      "news the country in general mi\n",
      "\n",
      " ================================================== 201st Chunk ================================================== \n",
      " ght be, they always contrived to learn\n",
      "some from their aunt. At present, indeed, they were well supplied both\n",
      "with news and happiness by the recent arrival of a militia regiment in\n",
      "the neighbourhood; it was to remain the whole winter, and Meryton was\n",
      "the head-quarters.\n",
      "\n",
      "Their visits to Mrs. Philips were now productive of the most interesting\n",
      "intelligence. Every day added something to their knowled\n",
      "\n",
      "No character overlap found\n"
     ]
    }
   ],
   "execution_count": 7
  },
  {
   "metadata": {},
   "cell_type": "markdown",
   "source": "Chunk size of `800` Characters, `400` overlap",
   "id": "4a30f3b820d5e60"
  },
  {
   "metadata": {
    "ExecuteTime": {
     "end_time": "2025-05-21T21:45:46.871394Z",
     "start_time": "2025-05-21T21:45:46.864142Z"
    }
   },
   "cell_type": "code",
   "source": [
    "character_overlap_chunks = chunk_text(document, chunk_size=800, overlap=400)\n",
    "\n",
    "analyze_chunks(character_overlap_chunks)"
   ],
   "id": "7b51901afe9e42f8",
   "outputs": [
    {
     "name": "stdout",
     "output_type": "stream",
     "text": [
      "\n",
      "Number of Chunks: 1871\n",
      "\n",
      " ================================================== 200th Chunk ================================================== \n",
      " ty to their aunt, and\n",
      "to a milliner’s shop just over the way. The two youngest of the family,\n",
      "Catherine and Lydia, were particularly frequent in these attentions:\n",
      "their minds were more vacant than their sisters’, and when nothing\n",
      "better offered, a walk to Meryton was necessary to amuse their morning\n",
      "hours and furnish conversation for the evening; and, however bare of\n",
      "news the country in general might be, they always contrived to learn\n",
      "some from their aunt. At present, indeed, they were well supplied both\n",
      "with news and happiness by the recent arrival of a militia regiment in\n",
      "the neighbourhood; it was to remain the whole winter, and Meryton was\n",
      "the head-quarters.\n",
      "\n",
      "Their visits to Mrs. Philips were now productive of the most interesting\n",
      "intelligence. Every day added something to their knowled\n",
      "\n",
      " ================================================== 201st Chunk ================================================== \n",
      " ght be, they always contrived to learn\n",
      "some from their aunt. At present, indeed, they were well supplied both\n",
      "with news and happiness by the recent arrival of a militia regiment in\n",
      "the neighbourhood; it was to remain the whole winter, and Meryton was\n",
      "the head-quarters.\n",
      "\n",
      "Their visits to Mrs. Philips were now productive of the most interesting\n",
      "intelligence. Every day added something to their knowledge of the\n",
      "officers’ names and connections. Their lodgings were not long a secret,\n",
      "and at length they began to know the officers themselves. Mr. Philips\n",
      "visited them all, and this opened to his nieces a source of felicity\n",
      "unknown before. They could talk of nothing but officers; and Mr.\n",
      "Bingley’s large fortune, the mention of which gave animation to their\n",
      "mother, was worthless in their eyes when opp\n",
      "\n",
      " ================================================== \n",
      "Overlapping text (400 chars): ght be, they always contrived to learn\n",
      "some from their aunt. At present, indeed, they were well supplied both\n",
      "with news and happiness by the recent arrival of a militia regiment in\n",
      "the neighbourhood; it was to remain the whole winter, and Meryton was\n",
      "the head-quarters.\n",
      "\n",
      "Their visits to Mrs. Philips were now productive of the most interesting\n",
      "intelligence. Every day added something to their knowled\n"
     ]
    }
   ],
   "execution_count": 8
  },
  {
   "metadata": {},
   "cell_type": "code",
   "outputs": [],
   "execution_count": null,
   "source": "",
   "id": "73459b68911e6f97"
  }
 ],
 "metadata": {
  "kernelspec": {
   "display_name": "Python 3",
   "language": "python",
   "name": "python3"
  },
  "language_info": {
   "codemirror_mode": {
    "name": "ipython",
    "version": 2
   },
   "file_extension": ".py",
   "mimetype": "text/x-python",
   "name": "python",
   "nbconvert_exporter": "python",
   "pygments_lexer": "ipython2",
   "version": "2.7.6"
  }
 },
 "nbformat": 4,
 "nbformat_minor": 5
}
