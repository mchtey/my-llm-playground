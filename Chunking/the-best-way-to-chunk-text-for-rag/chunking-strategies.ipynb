{
 "cells": [
  {
   "metadata": {},
   "cell_type": "markdown",
   "source": "##  Chunking - Optimizing Vector Database Data Preparation",
   "id": "37e2b6fcaa9eceee"
  },
  {
   "metadata": {},
   "cell_type": "markdown",
   "source": [
    "- Character/Token Based Chunking\n",
    "- Recursive Character/Token Based Chunking\n",
    "- Semantic Chunking\n",
    "- Cluster Semantic Chunking\n",
    "- LLM Semantic Chunking"
   ],
   "id": "fef92004fee37f9"
  },
  {
   "metadata": {},
   "cell_type": "markdown",
   "source": [
    "\n",
    "### The Chunking Evaluation Repo"
   ],
   "id": "f08e321cbd8bd095"
  },
  {
   "metadata": {
    "collapsed": true,
    "ExecuteTime": {
     "end_time": "2025-05-21T21:07:59.693143Z",
     "start_time": "2025-05-21T21:06:42.148671Z"
    }
   },
   "cell_type": "code",
   "source": [
    "%%capture\n",
    "!pip install git+https://github.com/brandonstarxel/chunking_evaluation.git"
   ],
   "id": "initial_id",
   "outputs": [],
   "execution_count": 1
  },
  {
   "metadata": {
    "ExecuteTime": {
     "end_time": "2025-05-21T21:21:50.286027Z",
     "start_time": "2025-05-21T21:21:48.759959Z"
    }
   },
   "cell_type": "code",
   "source": [
    "# Main Chunking Functions\n",
    "from chunking_evaluation.chunking import (\n",
    "    ClusterSemanticChunker,\n",
    "    LLMSemanticChunker,\n",
    "    FixedTokenChunker,\n",
    "    RecursiveTokenChunker,\n",
    "    KamradtModifiedChunker\n",
    ")\n",
    "# Additional Dependencies\n",
    "import tiktoken\n",
    "from chromadb.utils import embedding_functions\n",
    "from chunking_evaluation.utils import openai_token_count\n",
    "import os"
   ],
   "id": "80cee3e71e61a37",
   "outputs": [],
   "execution_count": 2
  },
  {
   "metadata": {},
   "cell_type": "markdown",
   "source": "Pride and Prejudice by Jane Austen, available for free from Project Gutenberg, will be used. It consists of 476 pages of text or 175,651 tokens.",
   "id": "f9a4520e787371fc"
  },
  {
   "metadata": {
    "ExecuteTime": {
     "end_time": "2025-05-21T21:27:20.822186Z",
     "start_time": "2025-05-21T21:27:20.815192Z"
    }
   },
   "cell_type": "code",
   "source": [
    "\n",
    "with open(\"./pride_and_prejudice.txt\", 'r', encoding='utf-8') as file:\n",
    "        document = file.read()\n",
    "\n",
    "print(\"First 1000 Characters: \", document[:1000])"
   ],
   "id": "e4eff6c657670144",
   "outputs": [
    {
     "name": "stdout",
     "output_type": "stream",
     "text": [
      "First 1000 Characters:  ﻿The Project Gutenberg eBook of Pride and Prejudice\n",
      "    \n",
      "This ebook is for the use of anyone anywhere in the United States and\n",
      "most other parts of the world at no cost and with almost no restrictions\n",
      "whatsoever. You may copy it, give it away or re-use it under the terms\n",
      "of the Project Gutenberg License included with this ebook or online\n",
      "at www.gutenberg.org. If you are not located in the United States,\n",
      "you will have to check the laws of the country where you are located\n",
      "before using this eBook.\n",
      "\n",
      "Title: Pride and Prejudice\n",
      "\n",
      "Author: Jane Austen\n",
      "\n",
      "Release date: June 1, 1998 [eBook #1342]\n",
      "                Most recently updated: June 17, 2024\n",
      "\n",
      "Language: English\n",
      "\n",
      "Credits: Chuck Greif and the Online Distributed Proofreading Team at http://www.pgdp.net (This file was produced from images available at The Internet Archive)\n",
      "\n",
      "\n",
      "*** START OF THE PROJECT GUTENBERG EBOOK PRIDE AND PREJUDICE ***\n",
      "\n",
      "\n",
      "\n",
      "\n",
      "                            [Illustration:\n",
      "\n",
      "                             GEORGE ALLEN\n",
      "                   \n"
     ]
    }
   ],
   "execution_count": 4
  },
  {
   "metadata": {},
   "cell_type": "markdown",
   "source": "#### Helper Function for Analyzing Chunking!",
   "id": "7a6e67188231a75f"
  },
  {
   "metadata": {},
   "cell_type": "markdown",
   "source": [
    "- **Display Chunk Count**: ***The function prints the length of the provided chunks list (i.e., the number of chunks).***\n",
    "- **Examine Specific Chunks**: ***It prints the 200th and 201st chunks (indices 199 and 200).***\n",
    "\n",
    "- **Overlap Analysis**: ***It identifies overlapping text between the 200th and 201st chunks, checked in two modes:***\n",
    "    + **Character-Based** (use_tokens=False): ***Searches for a common substring between the two chunks.***\n",
    "    + **Token-Based** (use_tokens=True): ***Uses the tiktoken library to tokenize the text and checks for token overlap.***"
   ],
   "id": "9acade2a27163aaf"
  },
  {
   "metadata": {
    "ExecuteTime": {
     "end_time": "2025-05-21T21:36:43.618633Z",
     "start_time": "2025-05-21T21:36:43.602395Z"
    }
   },
   "cell_type": "code",
   "source": [
    "def analyze_chunks(chunks, use_tokens=False):\n",
    "    # Print the chunks of interest\n",
    "    print(\"\\nNumber of Chunks:\", len(chunks))\n",
    "    print(\"\\n\", \"=\"*50, \"200th Chunk\", \"=\"*50,\"\\n\", chunks[199])\n",
    "    print(\"\\n\", \"=\"*50, \"201st Chunk\", \"=\"*50,\"\\n\", chunks[200])\n",
    "\n",
    "    chunk1, chunk2 = chunks[199], chunks[200]\n",
    "\n",
    "    if use_tokens:\n",
    "        encoding = tiktoken.get_encoding(\"cl100k_base\")\n",
    "        tokens1 = encoding.encode(chunk1)\n",
    "        tokens2 = encoding.encode(chunk2)\n",
    "\n",
    "        # Find overlapping tokens\n",
    "        for i in range(len(tokens1), 0, -1):\n",
    "            if tokens1[-i:] == tokens2[:i]:\n",
    "                overlap = encoding.decode(tokens1[-i:])\n",
    "                print(\"\\n\", \"=\"*50, f\"\\nOverlapping text ({i} tokens):\", overlap)\n",
    "                return\n",
    "        print(\"\\nNo token overlap found\")\n",
    "    else:\n",
    "        # Find overlapping characters\n",
    "        for i in range(min(len(chunk1), len(chunk2)), 0, -1):\n",
    "            if chunk1[-i:] == chunk2[:i]:\n",
    "                print(\"\\n\", \"=\"*50, f\"\\nOverlapping text ({i} chars):\", chunk1[-i:])\n",
    "                return\n",
    "        print(\"\\nNo character overlap found\")"
   ],
   "id": "bbcc76f905996f8e",
   "outputs": [],
   "execution_count": 5
  },
  {
   "metadata": {},
   "cell_type": "code",
   "outputs": [],
   "execution_count": null,
   "source": "",
   "id": "4a6cbdaa59901ad"
  }
 ],
 "metadata": {
  "kernelspec": {
   "display_name": "Python 3",
   "language": "python",
   "name": "python3"
  },
  "language_info": {
   "codemirror_mode": {
    "name": "ipython",
    "version": 2
   },
   "file_extension": ".py",
   "mimetype": "text/x-python",
   "name": "python",
   "nbconvert_exporter": "python",
   "pygments_lexer": "ipython2",
   "version": "2.7.6"
  }
 },
 "nbformat": 4,
 "nbformat_minor": 5
}
