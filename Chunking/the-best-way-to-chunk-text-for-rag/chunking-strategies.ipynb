{
 "cells": [
  {
   "metadata": {},
   "cell_type": "markdown",
   "source": "##  Chunking - Optimizing Vector Database Data Preparation",
   "id": "37e2b6fcaa9eceee"
  },
  {
   "metadata": {},
   "cell_type": "markdown",
   "source": [
    "- Character/Token Based Chunking\n",
    "- Recursive Character/Token Based Chunking\n",
    "- Semantic Chunking\n",
    "- Cluster Semantic Chunking\n",
    "- LLM Semantic Chunking"
   ],
   "id": "fef92004fee37f9"
  },
  {
   "metadata": {},
   "cell_type": "markdown",
   "source": [
    "\n",
    "### The Chunking Evaluation Repo"
   ],
   "id": "f08e321cbd8bd095"
  },
  {
   "metadata": {
    "collapsed": true,
    "ExecuteTime": {
     "end_time": "2025-05-21T21:07:59.693143Z",
     "start_time": "2025-05-21T21:06:42.148671Z"
    }
   },
   "cell_type": "code",
   "source": [
    "%%capture\n",
    "!pip install git+https://github.com/brandonstarxel/chunking_evaluation.git"
   ],
   "id": "initial_id",
   "outputs": [],
   "execution_count": 1
  },
  {
   "metadata": {
    "ExecuteTime": {
     "end_time": "2025-05-21T21:21:50.286027Z",
     "start_time": "2025-05-21T21:21:48.759959Z"
    }
   },
   "cell_type": "code",
   "source": [
    "# Main Chunking Functions\n",
    "from chunking_evaluation.chunking import (\n",
    "    ClusterSemanticChunker,\n",
    "    LLMSemanticChunker,\n",
    "    FixedTokenChunker,\n",
    "    RecursiveTokenChunker,\n",
    "    KamradtModifiedChunker\n",
    ")\n",
    "# Additional Dependencies\n",
    "import tiktoken\n",
    "from chromadb.utils import embedding_functions\n",
    "from chunking_evaluation.utils import openai_token_count\n",
    "import os"
   ],
   "id": "80cee3e71e61a37",
   "outputs": [],
   "execution_count": 2
  },
  {
   "metadata": {},
   "cell_type": "markdown",
   "source": "Pride and Prejudice by Jane Austen, available for free from Project Gutenberg, will be used. It consists of 476 pages of text or 175,651 tokens.",
   "id": "f9a4520e787371fc"
  },
  {
   "metadata": {
    "ExecuteTime": {
     "end_time": "2025-05-21T21:27:20.822186Z",
     "start_time": "2025-05-21T21:27:20.815192Z"
    }
   },
   "cell_type": "code",
   "source": [
    "\n",
    "with open(\"./pride_and_prejudice.txt\", 'r', encoding='utf-8') as file:\n",
    "        document = file.read()\n",
    "\n",
    "print(\"First 1000 Characters: \", document[:1000])"
   ],
   "id": "e4eff6c657670144",
   "outputs": [
    {
     "name": "stdout",
     "output_type": "stream",
     "text": [
      "First 1000 Characters:  ﻿The Project Gutenberg eBook of Pride and Prejudice\n",
      "    \n",
      "This ebook is for the use of anyone anywhere in the United States and\n",
      "most other parts of the world at no cost and with almost no restrictions\n",
      "whatsoever. You may copy it, give it away or re-use it under the terms\n",
      "of the Project Gutenberg License included with this ebook or online\n",
      "at www.gutenberg.org. If you are not located in the United States,\n",
      "you will have to check the laws of the country where you are located\n",
      "before using this eBook.\n",
      "\n",
      "Title: Pride and Prejudice\n",
      "\n",
      "Author: Jane Austen\n",
      "\n",
      "Release date: June 1, 1998 [eBook #1342]\n",
      "                Most recently updated: June 17, 2024\n",
      "\n",
      "Language: English\n",
      "\n",
      "Credits: Chuck Greif and the Online Distributed Proofreading Team at http://www.pgdp.net (This file was produced from images available at The Internet Archive)\n",
      "\n",
      "\n",
      "*** START OF THE PROJECT GUTENBERG EBOOK PRIDE AND PREJUDICE ***\n",
      "\n",
      "\n",
      "\n",
      "\n",
      "                            [Illustration:\n",
      "\n",
      "                             GEORGE ALLEN\n",
      "                   \n"
     ]
    }
   ],
   "execution_count": 4
  },
  {
   "metadata": {},
   "cell_type": "markdown",
   "source": "#### **Helper Function for Analyzing Chunking!**",
   "id": "7a6e67188231a75f"
  },
  {
   "metadata": {},
   "cell_type": "markdown",
   "source": [
    "- **Display Chunk Count**: _The function prints the length of the provided chunks list (i.e., the number of chunks)._\n",
    "- **Examine Specific Chunks**: _It prints the 200th and 201st chunks (indices 199 and 200)._\n",
    "\n",
    "- **Overlap Analysis**: _It identifies overlapping text between the 200th and 201st chunks, checked in two modes._\n",
    "    + **Character-Based** (use_tokens=False): _Searches for a common substring between the two chunks._\n",
    "    + **Token-Based** (use_tokens=True): _Uses the tiktoken library to tokenize the text and checks for token overlap._"
   ],
   "id": "9acade2a27163aaf"
  },
  {
   "metadata": {
    "ExecuteTime": {
     "end_time": "2025-05-21T21:36:43.618633Z",
     "start_time": "2025-05-21T21:36:43.602395Z"
    }
   },
   "cell_type": "code",
   "source": [
    "def analyze_chunks(chunks, use_tokens=False):\n",
    "    # Print the chunks of interest\n",
    "    print(\"\\nNumber of Chunks:\", len(chunks))\n",
    "    print(\"\\n\", \"=\"*50, \"200th Chunk\", \"=\"*50,\"\\n\", chunks[199])\n",
    "    print(\"\\n\", \"=\"*50, \"201st Chunk\", \"=\"*50,\"\\n\", chunks[200])\n",
    "\n",
    "    chunk1, chunk2 = chunks[199], chunks[200]\n",
    "\n",
    "    if use_tokens:\n",
    "        encoding = tiktoken.get_encoding(\"cl100k_base\")\n",
    "        tokens1 = encoding.encode(chunk1)\n",
    "        tokens2 = encoding.encode(chunk2)\n",
    "\n",
    "        # Find overlapping tokens\n",
    "        for i in range(len(tokens1), 0, -1):\n",
    "            if tokens1[-i:] == tokens2[:i]:\n",
    "                overlap = encoding.decode(tokens1[-i:])\n",
    "                print(\"\\n\", \"=\"*50, f\"\\nOverlapping text ({i} tokens):\", overlap)\n",
    "                return\n",
    "        print(\"\\nNo token overlap found\")\n",
    "    else:\n",
    "        # Find overlapping characters\n",
    "        for i in range(min(len(chunk1), len(chunk2)), 0, -1):\n",
    "            if chunk1[-i:] == chunk2[:i]:\n",
    "                print(\"\\n\", \"=\"*50, f\"\\nOverlapping text ({i} chars):\", chunk1[-i:])\n",
    "                return\n",
    "        print(\"\\nNo character overlap found\")"
   ],
   "id": "bbcc76f905996f8e",
   "outputs": [],
   "execution_count": 5
  },
  {
   "metadata": {},
   "cell_type": "markdown",
   "source": "### <font color='orange'>**Character Text Splitting**</font>",
   "id": "87aedf2a6654eac8"
  },
  {
   "metadata": {},
   "cell_type": "markdown",
   "source": "_The simplest form of chunking would be simply counting some number of characters and splitting at that count._",
   "id": "e5a918e49aec94af"
  },
  {
   "metadata": {
    "ExecuteTime": {
     "end_time": "2025-05-21T21:42:11.182924Z",
     "start_time": "2025-05-21T21:42:11.175081Z"
    }
   },
   "cell_type": "code",
   "source": [
    "def chunk_text(document, chunk_size, overlap):\n",
    "    chunks = []\n",
    "    stride = chunk_size - overlap\n",
    "    current_idx = 0\n",
    "\n",
    "    while current_idx < len(document):\n",
    "        # Take chunk_size characters starting from current_idx\n",
    "        chunk = document[current_idx:current_idx + chunk_size]\n",
    "        if not chunk:  # Break if we're out of text\n",
    "            break\n",
    "        chunks.append(chunk)\n",
    "        current_idx += stride  # Move forward by stride\n",
    "\n",
    "    return chunks"
   ],
   "id": "4a6cbdaa59901ad",
   "outputs": [],
   "execution_count": 6
  },
  {
   "metadata": {},
   "cell_type": "markdown",
   "source": "Chunk size of `400` Characters, `no overlap`",
   "id": "1adcbc81416cd4f6"
  },
  {
   "metadata": {
    "ExecuteTime": {
     "end_time": "2025-05-21T21:43:13.800596Z",
     "start_time": "2025-05-21T21:43:13.795275Z"
    }
   },
   "cell_type": "code",
   "source": [
    "character_chunks = chunk_text(document, chunk_size=400, overlap=0)\n",
    "\n",
    "analyze_chunks(character_chunks)"
   ],
   "id": "c341c686cb511775",
   "outputs": [
    {
     "name": "stdout",
     "output_type": "stream",
     "text": [
      "\n",
      "Number of Chunks: 1871\n",
      "\n",
      " ================================================== 200th Chunk ================================================== \n",
      " ty to their aunt, and\n",
      "to a milliner’s shop just over the way. The two youngest of the family,\n",
      "Catherine and Lydia, were particularly frequent in these attentions:\n",
      "their minds were more vacant than their sisters’, and when nothing\n",
      "better offered, a walk to Meryton was necessary to amuse their morning\n",
      "hours and furnish conversation for the evening; and, however bare of\n",
      "news the country in general mi\n",
      "\n",
      " ================================================== 201st Chunk ================================================== \n",
      " ght be, they always contrived to learn\n",
      "some from their aunt. At present, indeed, they were well supplied both\n",
      "with news and happiness by the recent arrival of a militia regiment in\n",
      "the neighbourhood; it was to remain the whole winter, and Meryton was\n",
      "the head-quarters.\n",
      "\n",
      "Their visits to Mrs. Philips were now productive of the most interesting\n",
      "intelligence. Every day added something to their knowled\n",
      "\n",
      "No character overlap found\n"
     ]
    }
   ],
   "execution_count": 7
  },
  {
   "metadata": {},
   "cell_type": "markdown",
   "source": "Chunk size of `800` Characters, `400` overlap",
   "id": "4a30f3b820d5e60"
  },
  {
   "metadata": {
    "ExecuteTime": {
     "end_time": "2025-05-21T21:45:46.871394Z",
     "start_time": "2025-05-21T21:45:46.864142Z"
    }
   },
   "cell_type": "code",
   "source": [
    "character_overlap_chunks = chunk_text(document, chunk_size=800, overlap=400)\n",
    "\n",
    "analyze_chunks(character_overlap_chunks)"
   ],
   "id": "7b51901afe9e42f8",
   "outputs": [
    {
     "name": "stdout",
     "output_type": "stream",
     "text": [
      "\n",
      "Number of Chunks: 1871\n",
      "\n",
      " ================================================== 200th Chunk ================================================== \n",
      " ty to their aunt, and\n",
      "to a milliner’s shop just over the way. The two youngest of the family,\n",
      "Catherine and Lydia, were particularly frequent in these attentions:\n",
      "their minds were more vacant than their sisters’, and when nothing\n",
      "better offered, a walk to Meryton was necessary to amuse their morning\n",
      "hours and furnish conversation for the evening; and, however bare of\n",
      "news the country in general might be, they always contrived to learn\n",
      "some from their aunt. At present, indeed, they were well supplied both\n",
      "with news and happiness by the recent arrival of a militia regiment in\n",
      "the neighbourhood; it was to remain the whole winter, and Meryton was\n",
      "the head-quarters.\n",
      "\n",
      "Their visits to Mrs. Philips were now productive of the most interesting\n",
      "intelligence. Every day added something to their knowled\n",
      "\n",
      " ================================================== 201st Chunk ================================================== \n",
      " ght be, they always contrived to learn\n",
      "some from their aunt. At present, indeed, they were well supplied both\n",
      "with news and happiness by the recent arrival of a militia regiment in\n",
      "the neighbourhood; it was to remain the whole winter, and Meryton was\n",
      "the head-quarters.\n",
      "\n",
      "Their visits to Mrs. Philips were now productive of the most interesting\n",
      "intelligence. Every day added something to their knowledge of the\n",
      "officers’ names and connections. Their lodgings were not long a secret,\n",
      "and at length they began to know the officers themselves. Mr. Philips\n",
      "visited them all, and this opened to his nieces a source of felicity\n",
      "unknown before. They could talk of nothing but officers; and Mr.\n",
      "Bingley’s large fortune, the mention of which gave animation to their\n",
      "mother, was worthless in their eyes when opp\n",
      "\n",
      " ================================================== \n",
      "Overlapping text (400 chars): ght be, they always contrived to learn\n",
      "some from their aunt. At present, indeed, they were well supplied both\n",
      "with news and happiness by the recent arrival of a militia regiment in\n",
      "the neighbourhood; it was to remain the whole winter, and Meryton was\n",
      "the head-quarters.\n",
      "\n",
      "Their visits to Mrs. Philips were now productive of the most interesting\n",
      "intelligence. Every day added something to their knowled\n"
     ]
    }
   ],
   "execution_count": 8
  },
  {
   "metadata": {},
   "cell_type": "markdown",
   "source": "### <font color='orange'>**Token Text Splitting**</font>",
   "id": "352315e316a1504e"
  },
  {
   "metadata": {},
   "cell_type": "markdown",
   "source": [
    "But language models (the end users of chunked text usually) don't operate at the character level. Instead they use tokens, or common sequences of characters that represent frequent words, word pieces, and subwords. For example, the word 'hamburger' when ran through GPT-4's tokenizer is split into the tokens ['h', 'amburger']. Common words like 'the' or 'and' are typically single tokens.\n",
    "\n",
    "This means character-based splitting isn't ideal because:\n",
    "\n",
    "    1. A 500-character chunk might contain anywhere from 100-500 tokens depending on the text\n",
    "    2. Different languages and character sets encode to very different numbers of tokens\n",
    "    3. We might hit token limits in our LLM without realizing it\n",
    "\n",
    "A good visualizer of tokenization is available [on OpenAI's platform](https://platform.openai.com/tokenizer)\n",
    "\n",
    "Tokenizers like 'cl100k_base' implement Byte-Pair Encoding (BPE) - a compression algorithm that creates a vocabulary by iteratively merging the most frequent pairs of bytes or characters. The '100k' refers to its vocab size, determining the balance between compression and representation granularity.\n",
    "\n",
    "When talking to a language model, the first step is tokenizing the text so that it can be processed by the underlying neural network. The LLM outputs tokens which are decoded back into words."
   ],
   "id": "abc3e5ae518e0c85"
  },
  {
   "metadata": {
    "ExecuteTime": {
     "end_time": "2025-05-21T22:05:53.154754Z",
     "start_time": "2025-05-21T22:05:53.017123Z"
    }
   },
   "cell_type": "code",
   "source": [
    "import tiktoken\n",
    "\n",
    "# Loading cl100k_base tokenizer\n",
    "encoder = tiktoken.get_encoding(\"cl100k_base\")\n",
    "\n",
    "# Text Example\n",
    "text = \"hamburger\"\n",
    "tokens = encoder.encode(text)\n",
    "\n",
    "print(\"Tokens:\", tokens)"
   ],
   "id": "73459b68911e6f97",
   "outputs": [
    {
     "name": "stdout",
     "output_type": "stream",
     "text": [
      "Tokens: [71, 47775]\n"
     ]
    }
   ],
   "execution_count": 9
  },
  {
   "metadata": {
    "ExecuteTime": {
     "end_time": "2025-05-21T22:09:29.319224Z",
     "start_time": "2025-05-21T22:09:29.313168Z"
    }
   },
   "cell_type": "code",
   "source": [
    "for i in range(len(tokens)):\n",
    "    print(f\"Token {i+1}:\", encoder.decode([tokens[i]]))\n",
    "\n",
    "print(\"Full Decoding: \", encoder.decode(tokens))"
   ],
   "id": "adeeb3c0627e066e",
   "outputs": [
    {
     "name": "stdout",
     "output_type": "stream",
     "text": [
      "Token 1: h\n",
      "Token 2: amburger\n",
      "Full Decoding:  hamburger\n"
     ]
    }
   ],
   "execution_count": 10
  },
  {
   "metadata": {},
   "cell_type": "markdown",
   "source": "#### **Helper Function for Counting Tokens**",
   "id": "95a819f5020c5f19"
  },
  {
   "metadata": {
    "ExecuteTime": {
     "end_time": "2025-05-21T22:11:45.923936Z",
     "start_time": "2025-05-21T22:11:45.913424Z"
    }
   },
   "cell_type": "code",
   "source": [
    "def count_tokens(text, model=\"cl100k_base\"):\n",
    "    \"\"\"Count tokens in a text string using tiktoken\"\"\"\n",
    "    encoder = tiktoken.get_encoding(model)\n",
    "    return print(f\"Number of tokens: {len(encoder.encode(text))}\")"
   ],
   "id": "b92ab03393efe1b0",
   "outputs": [],
   "execution_count": 11
  },
  {
   "metadata": {},
   "cell_type": "markdown",
   "source": "Chunk Size of `400` Tokens, `0 Overlap`",
   "id": "2d5be0c6864df63c"
  },
  {
   "metadata": {
    "ExecuteTime": {
     "end_time": "2025-05-21T22:12:25.934985Z",
     "start_time": "2025-05-21T22:12:25.812418Z"
    }
   },
   "cell_type": "code",
   "source": [
    "fixed_token_chunker = FixedTokenChunker(\n",
    "    chunk_size=400,\n",
    "    chunk_overlap=0,\n",
    "    encoding_name=\"cl100k_base\"\n",
    ")\n",
    "\n",
    "token_chunks = fixed_token_chunker.split_text(document)\n",
    "\n",
    "analyze_chunks(token_chunks, use_tokens=True)"
   ],
   "id": "aa7f27912484ab8e",
   "outputs": [
    {
     "name": "stdout",
     "output_type": "stream",
     "text": [
      "\n",
      "Number of Chunks: 440\n",
      "\n",
      " ================================================== 200th Chunk ================================================== \n",
      "  fortunate as to meet Miss Bennet. The\n",
      "subject was pursued no further, and the gentlemen soon afterwards went\n",
      "away.\n",
      "\n",
      "\n",
      "\n",
      "\n",
      "[Illustration:\n",
      "\n",
      "“At Church”\n",
      "]\n",
      "\n",
      "\n",
      "\n",
      "\n",
      "CHAPTER XXXI.\n",
      "\n",
      "\n",
      "[Illustration]\n",
      "\n",
      "Colonel Fitzwilliam’s manners were very much admired at the Parsonage,\n",
      "and the ladies all felt that he must add considerably to the pleasure of\n",
      "their engagements at Rosings. It was some days, however, before they\n",
      "received any invitation thither, for while there were visitors in the\n",
      "house they could not be necessary; and it was not till Easter-day,\n",
      "almost a week after the gentlemen’s arrival, that they were honoured by\n",
      "such an attention, and then they were merely asked on leaving church to\n",
      "come there in the evening. For the last week they had seen very little\n",
      "of either Lady Catherine or her daughter. Colonel Fitzwilliam had called\n",
      "at the Parsonage more than once during the time, but Mr. Darcy they had\n",
      "only seen at church.\n",
      "\n",
      "The invitation was accepted, of course, and at a proper hour they joined\n",
      "the party in Lady Catherine’s drawing-room. Her Ladyship received them\n",
      "civilly, but it was plain that their company was by no means so\n",
      "acceptable as when she could get nobody else; and she was, in fact,\n",
      "almost engrossed by her nephews, speaking to them, especially to Darcy,\n",
      "much more than to any other person in the room.\n",
      "\n",
      "Colonel Fitzwilliam seemed really glad to see them: anything was a\n",
      "welcome relief to him at Rosings; and Mrs. Collins’s pretty friend had,\n",
      "moreover, caught his fancy very much. He now seated himself by her, and\n",
      "talked so agreeably of Kent and Hertfordshire, of travelling and staying\n",
      "at home, of new books and music, that Elizabeth had never been half so\n",
      "well entertained in that room before; and they conversed with so much\n",
      "\n",
      "\n",
      " ================================================== 201st Chunk ================================================== \n",
      " spirit and flow as to draw the attention of Lady Catherine herself, as\n",
      "well as of Mr. Darcy. _His_ eyes had been soon and repeatedly turned\n",
      "towards them with a look of curiosity; and that her Ladyship, after a\n",
      "while, shared the feeling, was more openly acknowledged, for she did not\n",
      "scruple to call out,--\n",
      "\n",
      "“What is that you are saying, Fitzwilliam? What is it you are talking\n",
      "of? What are you telling Miss Bennet? Let me hear what it is.”\n",
      "\n",
      "“We were talking of music, madam,” said he, when no longer able to avoid\n",
      "a reply.\n",
      "\n",
      "“Of music! Then pray speak aloud. It is of all subjects my delight. I\n",
      "must have my share in the conversation, if you are speaking of music.\n",
      "There are few people in England, I suppose, who have more true\n",
      "enjoyment of music than myself, or a better natural taste. If I had ever\n",
      "learnt, I should have been a great proficient. And so would Anne, if her\n",
      "health had allowed her to apply. I am confident that she would have\n",
      "performed delightfully. How does Georgiana get on, Darcy?”\n",
      "\n",
      "Mr. Darcy spoke with affectionate praise of his sister’s proficiency.\n",
      "\n",
      "“I am very glad to hear such a good account of her,” said Lady\n",
      "Catherine; “and pray tell her from me, that she cannot expect to excel,\n",
      "if she does not practise a great deal.”\n",
      "\n",
      "“I assure you, madam,” he replied, “that she does not need such advice.\n",
      "She practises very constantly.”\n",
      "\n",
      "“So much the better. It cannot be done too much; and when I next write\n",
      "to her, I shall charge her not to neglect it on any account. I often\n",
      "tell young ladies, that no excellence in music is to be acquired without\n",
      "constant practice. I have told Miss Bennet several times, that she will\n",
      "never\n",
      "\n",
      "No token overlap found\n"
     ]
    }
   ],
   "execution_count": 12
  },
  {
   "metadata": {
    "ExecuteTime": {
     "end_time": "2025-05-21T22:12:38.944409Z",
     "start_time": "2025-05-21T22:12:38.937288Z"
    }
   },
   "cell_type": "code",
   "source": "count_tokens(token_chunks[0])",
   "id": "eb0ac5ec572c35cc",
   "outputs": [
    {
     "name": "stdout",
     "output_type": "stream",
     "text": [
      "Number of tokens: 400\n"
     ]
    }
   ],
   "execution_count": 13
  },
  {
   "metadata": {},
   "cell_type": "markdown",
   "source": "Chunk Size of `400` Tokens, `200` Overlap",
   "id": "9ff4a85ab60e32bf"
  },
  {
   "metadata": {
    "ExecuteTime": {
     "end_time": "2025-05-21T22:15:20.060400Z",
     "start_time": "2025-05-21T22:15:19.979510Z"
    }
   },
   "cell_type": "code",
   "source": [
    "fixed_token_chunker = FixedTokenChunker(\n",
    "    chunk_size=400,\n",
    "    chunk_overlap=200,\n",
    "    encoding_name=\"cl100k_base\"\n",
    ")\n",
    "\n",
    "token_overlap_chunks = fixed_token_chunker.split_text(document)\n",
    "\n",
    "analyze_chunks(token_overlap_chunks, use_tokens=True)"
   ],
   "id": "12fe800f5b9752a9",
   "outputs": [
    {
     "name": "stdout",
     "output_type": "stream",
     "text": [
      "\n",
      "Number of Chunks: 878\n",
      "\n",
      " ================================================== 200th Chunk ================================================== \n",
      "  I _heard_ nothing of his going away when I\n",
      "was at Netherfield. I hope your plans in favour of the ----shire will\n",
      "not be affected by his being in the neighbourhood.”\n",
      "\n",
      "“Oh no--it is not for _me_ to be driven away by Mr. Darcy. If _he_\n",
      "wishes to avoid seeing _me_ he must go. We are not on friendly terms,\n",
      "and it always gives me pain to meet him, but I have no reason for\n",
      "avoiding _him_ but what I might proclaim to all the world--a sense of\n",
      "very great ill-usage, and most painful regrets at his being what he is.\n",
      "His father, Miss Bennet, the late Mr. Darcy, was one of the best men\n",
      "that ever breathed, and the truest friend I ever had; and I can never be\n",
      "in company with this Mr. Darcy without being grieved to the soul by a\n",
      "thousand tender recollections. His behaviour to myself has been\n",
      "scandalous; but I verily believe I could forgive him anything and\n",
      "everything, rather than his disappointing the hopes and disgracing the\n",
      "memory of his father.”\n",
      "\n",
      "Elizabeth found the interest of the subject increase, and listened with\n",
      "all her heart; but the delicacy of it prevented further inquiry.\n",
      "\n",
      "Mr. Wickham began to speak on more general topics, Meryton, the\n",
      "neighbourhood, the society, appearing highly pleased with all that he\n",
      "had yet seen, and speaking of the latter, especially, with gentle but\n",
      "very intelligible gallantry.\n",
      "\n",
      "“It was the prospect of constant society, and good society,” he added,\n",
      "“which was my chief inducement to enter the ----shire. I know it to be a\n",
      "most respectable, agreeable corps; and my friend Denny tempted me\n",
      "further by his account of their present quarters, and the very great\n",
      "attentions and excellent acquaintance Meryton had procured\n",
      "\n",
      " ================================================== 201st Chunk ================================================== \n",
      "  His behaviour to myself has been\n",
      "scandalous; but I verily believe I could forgive him anything and\n",
      "everything, rather than his disappointing the hopes and disgracing the\n",
      "memory of his father.”\n",
      "\n",
      "Elizabeth found the interest of the subject increase, and listened with\n",
      "all her heart; but the delicacy of it prevented further inquiry.\n",
      "\n",
      "Mr. Wickham began to speak on more general topics, Meryton, the\n",
      "neighbourhood, the society, appearing highly pleased with all that he\n",
      "had yet seen, and speaking of the latter, especially, with gentle but\n",
      "very intelligible gallantry.\n",
      "\n",
      "“It was the prospect of constant society, and good society,” he added,\n",
      "“which was my chief inducement to enter the ----shire. I know it to be a\n",
      "most respectable, agreeable corps; and my friend Denny tempted me\n",
      "further by his account of their present quarters, and the very great\n",
      "attentions and excellent acquaintance Meryton had procured them.\n",
      "Society, I own, is necessary to me. I have been a disappointed man, and\n",
      "my spirits will not bear solitude. I _must_ have employment and society.\n",
      "A military life is not what I was intended for, but circumstances have\n",
      "now made it eligible. The church _ought_ to have been my profession--I\n",
      "was brought up for the church; and I should at this time have been in\n",
      "possession of a most valuable living, had it pleased the gentleman we\n",
      "were speaking of just now.”\n",
      "\n",
      "“Indeed!”\n",
      "\n",
      "“Yes--the late Mr. Darcy bequeathed me the next presentation of the best\n",
      "living in his gift. He was my godfather, and excessively attached to me.\n",
      "I cannot do justice to his kindness. He meant to provide for me amply,\n",
      "and thought he had done it; but when the living fell, it was given\n",
      "elsewhere.”\n",
      "\n",
      "“Good heavens!” cried Elizabeth; “but how could _that_ be\n",
      "\n",
      " ================================================== \n",
      "Overlapping text (200 tokens):  His behaviour to myself has been\n",
      "scandalous; but I verily believe I could forgive him anything and\n",
      "everything, rather than his disappointing the hopes and disgracing the\n",
      "memory of his father.”\n",
      "\n",
      "Elizabeth found the interest of the subject increase, and listened with\n",
      "all her heart; but the delicacy of it prevented further inquiry.\n",
      "\n",
      "Mr. Wickham began to speak on more general topics, Meryton, the\n",
      "neighbourhood, the society, appearing highly pleased with all that he\n",
      "had yet seen, and speaking of the latter, especially, with gentle but\n",
      "very intelligible gallantry.\n",
      "\n",
      "“It was the prospect of constant society, and good society,” he added,\n",
      "“which was my chief inducement to enter the ----shire. I know it to be a\n",
      "most respectable, agreeable corps; and my friend Denny tempted me\n",
      "further by his account of their present quarters, and the very great\n",
      "attentions and excellent acquaintance Meryton had procured\n"
     ]
    }
   ],
   "execution_count": 14
  },
  {
   "metadata": {},
   "cell_type": "code",
   "outputs": [],
   "execution_count": null,
   "source": "",
   "id": "25b887ed3192c44a"
  }
 ],
 "metadata": {
  "kernelspec": {
   "display_name": "Python 3",
   "language": "python",
   "name": "python3"
  },
  "language_info": {
   "codemirror_mode": {
    "name": "ipython",
    "version": 2
   },
   "file_extension": ".py",
   "mimetype": "text/x-python",
   "name": "python",
   "nbconvert_exporter": "python",
   "pygments_lexer": "ipython2",
   "version": "2.7.6"
  }
 },
 "nbformat": 4,
 "nbformat_minor": 5
}
